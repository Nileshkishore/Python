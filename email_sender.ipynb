{
  "nbformat": 4,
  "nbformat_minor": 0,
  "metadata": {
    "colab": {
      "provenance": [],
      "authorship_tag": "ABX9TyO/hiyhIexcqI4ugu9aZctz",
      "include_colab_link": true
    },
    "kernelspec": {
      "name": "python3",
      "display_name": "Python 3"
    },
    "language_info": {
      "name": "python"
    }
  },
  "cells": [
    {
      "cell_type": "markdown",
      "metadata": {
        "id": "view-in-github",
        "colab_type": "text"
      },
      "source": [
        "<a href=\"https://colab.research.google.com/github/Nileshkishore/Python/blob/main/email_sender.ipynb\" target=\"_parent\"><img src=\"https://colab.research.google.com/assets/colab-badge.svg\" alt=\"Open In Colab\"/></a>"
      ]
    },
    {
      "cell_type": "code",
      "execution_count": null,
      "metadata": {
        "id": "rsNFCd8NXsFI"
      },
      "outputs": [],
      "source": [
        "from email.message import EmailMessage "
      ]
    },
    {
      "cell_type": "code",
      "source": [
        "import ssl\n",
        "import smtplib"
      ],
      "metadata": {
        "id": "wDcYICmrearO"
      },
      "execution_count": null,
      "outputs": []
    },
    {
      "cell_type": "code",
      "source": [
        "email_sender='nileshkishore2001@gmail.com'\n",
        "email_password='oyfktkskgampfwdc'\n",
        "email_recevier='nileshkishore2020@gmail.com'\n",
        "\n",
        "subject='THIS IS SUBJECT'\n",
        "body = \"this is body\"\n",
        "\n",
        "em=EmailMessage()\n",
        "em['from']=email_sender\n",
        "em['to']=email_recevier\n",
        "em['subject'] = subject\n",
        "em.set_content(body)\n",
        "\n",
        "\n",
        "context=ssl.create_default_context()\n",
        "\n",
        "with smtplib.SMTP_SSL('smtp.gmail.com',465,context=context) as smtp:\n",
        "  smtp.login(email_sender,email_password)\n",
        "  smtp.sendmail(email_sender,email_recevier,em.as_string())"
      ],
      "metadata": {
        "id": "Nl7XHkbwdHn6"
      },
      "execution_count": null,
      "outputs": []
    },
    {
      "cell_type": "markdown",
      "source": [
        "**for multiple **"
      ],
      "metadata": {
        "id": "5JRGcrq2iGQX"
      }
    },
    {
      "cell_type": "code",
      "source": [
        "email_sender='nileshkishore2001@gmail.com'\n",
        "email_password='oyfktkskgampfwdc'\n",
        "email_recevier= ['nileshkishore2020@gmail.com', 'kishankum7070@gmail.com', 'nileshkishore2001@gmail.com','raza280']\n",
        "\n",
        "for i in email_recevier:\n",
        "  subject='THIS IS SUBJECT'\n",
        "  body = \"this is body\"\n",
        "\n",
        "  em=EmailMessage()\n",
        "  em['from']=email_sender\n",
        "  em['to']=i\n",
        "  em['subject'] = subject\n",
        "  em.set_content(body)\n",
        "\n",
        "\n",
        "  context=ssl.create_default_context()\n",
        "\n",
        "  with smtplib.SMTP_SSL('smtp.gmail.com',465,context=context) as smtp:\n",
        "    smtp.login(email_sender,email_password)\n",
        "    smtp.sendmail(email_sender,i,em.as_string())"
      ],
      "metadata": {
        "id": "QejFHsDWgvWQ"
      },
      "execution_count": null,
      "outputs": []
    }
  ]
}