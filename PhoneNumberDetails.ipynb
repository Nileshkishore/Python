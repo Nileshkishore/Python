{
  "nbformat": 4,
  "nbformat_minor": 0,
  "metadata": {
    "colab": {
      "provenance": [],
      "authorship_tag": "ABX9TyP8IoaOxRDWa+Vrwxm9Cx0z",
      "include_colab_link": true
    },
    "kernelspec": {
      "name": "python3",
      "display_name": "Python 3"
    },
    "language_info": {
      "name": "python"
    }
  },
  "cells": [
    {
      "cell_type": "markdown",
      "metadata": {
        "id": "view-in-github",
        "colab_type": "text"
      },
      "source": [
        "<a href=\"https://colab.research.google.com/github/Nileshkishore/Python/blob/main/PhoneNumberDetails.ipynb\" target=\"_parent\"><img src=\"https://colab.research.google.com/assets/colab-badge.svg\" alt=\"Open In Colab\"/></a>"
      ]
    },
    {
      "cell_type": "code",
      "execution_count": null,
      "metadata": {
        "colab": {
          "base_uri": "https://localhost:8080/"
        },
        "id": "SHEiVOXksFPH",
        "outputId": "91b3b677-c7b3-49a8-f806-8f8883261343"
      },
      "outputs": [
        {
          "output_type": "stream",
          "name": "stdout",
          "text": [
            "Looking in indexes: https://pypi.org/simple, https://us-python.pkg.dev/colab-wheels/public/simple/\n",
            "Collecting phonenumbers\n",
            "  Downloading phonenumbers-8.12.53-py2.py3-none-any.whl (2.6 MB)\n",
            "\u001b[K     |████████████████████████████████| 2.6 MB 15.0 MB/s \n",
            "\u001b[?25hInstalling collected packages: phonenumbers\n",
            "Successfully installed phonenumbers-8.12.53\n"
          ]
        }
      ],
      "source": [
        "!pip install phonenumbers\n",
        "import phonenumbers"
      ]
    },
    {
      "cell_type": "code",
      "source": [
        "from phonenumbers import timezone,geocoder, carrier\n",
        "number=input(\"Enter Number--\")\n",
        "phone=phonenumbers.parse(number)\n",
        "time=timezone.time_zones_for_number(phone)\n",
        "car=carrier.name_for_number(phone,\"en\")\n",
        "reg=geocoder.description_for_number(phone,\"en\")\n",
        "print(phone)\n",
        "print(time)\n",
        "print(car)\n",
        "print(reg)"
      ],
      "metadata": {
        "colab": {
          "base_uri": "https://localhost:8080/"
        },
        "id": "o8Bxl0kgs02R",
        "outputId": "a059f7ff-c480-4dca-c11e-8776285d89de"
      },
      "execution_count": null,
      "outputs": [
        {
          "output_type": "stream",
          "name": "stdout",
          "text": [
            "Enter Number--+919546574165\n",
            "Country Code: 91 National Number: 9546574165\n",
            "('Asia/Calcutta',)\n",
            "Airtel\n",
            "India\n"
          ]
        }
      ]
    }
  ]
}