{
  "nbformat": 4,
  "nbformat_minor": 0,
  "metadata": {
    "colab": {
      "provenance": [],
      "collapsed_sections": [],
      "authorship_tag": "ABX9TyObgb6a40Y7SnMyHQcSiSbT",
      "include_colab_link": true
    },
    "kernelspec": {
      "name": "python3",
      "display_name": "Python 3"
    },
    "language_info": {
      "name": "python"
    }
  },
  "cells": [
    {
      "cell_type": "markdown",
      "metadata": {
        "id": "view-in-github",
        "colab_type": "text"
      },
      "source": [
        "<a href=\"https://colab.research.google.com/github/Nileshkishore/Python/blob/main/Statistics.ipynb\" target=\"_parent\"><img src=\"https://colab.research.google.com/assets/colab-badge.svg\" alt=\"Open In Colab\"/></a>"
      ]
    },
    {
      "cell_type": "code",
      "metadata": {
        "id": "QwF1AgahtyDn"
      },
      "source": [
        "import statistics as st"
      ],
      "execution_count": null,
      "outputs": []
    },
    {
      "cell_type": "code",
      "metadata": {
        "colab": {
          "base_uri": "https://localhost:8080/"
        },
        "id": "EYHqdAX1V1GZ",
        "outputId": "86a52bab-e244-4c56-812a-12e70fb500a1"
      },
      "source": [
        "x=[34,76,-65 ,64,98,17,9,9]\n",
        "print(st.mean(x))  #simple average\n",
        "print(st.median(x)) # first  sort them then find the middle value\n",
        "print(st.mode(x))  # valuewhich comes for maximum times\n"
      ],
      "execution_count": null,
      "outputs": [
        {
          "output_type": "stream",
          "name": "stdout",
          "text": [
            "30.25\n",
            "25.5\n",
            "9\n"
          ]
        }
      ]
    },
    {
      "cell_type": "code",
      "metadata": {
        "colab": {
          "base_uri": "https://localhost:8080/",
          "height": 204
        },
        "id": "OnL5TdwYa6kC",
        "outputId": "2339f32c-38a6-44f3-fc32-16b53dbb7d5c"
      },
      "source": [
        "print(st.median_grouped(x)) #50% percentile\n",
        "'''Return the 50th percentile (median) of grouped continuous data.\n",
        "\n",
        ">>> median_grouped([1, 2, 2, 3, 4, 4, 4, 4, 4, 5])\n",
        "3.7\n",
        ">>> median_grouped([52, 52, 53, 54])\n",
        "52.5\n",
        "This calculates the median as the 50th percentile, and should be\n",
        "used when your data is continuous and grouped. In the above example,\n",
        "the values 1, 2, 3, etc. actually represent the midpoint of classes\n",
        "0.5-1.5, 1.5-2.5, 2.5-3.5, etc. The middle value falls somewhere in\n",
        "class 3.5-4.5, and interpolation is used to estimate it.\n",
        "\n",
        "Optional argument interval represents the class interval, and\n",
        "defaults to 1. Changing the class interval naturally will change the\n",
        "interpolated 50th percentile value:\n",
        "\n",
        ">>> median_grouped([1, 3, 3, 5, 7], interval=1)\n",
        "3.25\n",
        ">>> median_grouped([1, 3, 3, 5, 7], interval=2)\n",
        "3.5\n",
        "This function does not check whether the data points are at least\n",
        "interval apart.'''\n",
        "\n",
        "print(st.median_high(x))\n",
        "'''Return the high median of data.\n",
        "When the number of data points is odd, the middle value is returned.\n",
        "When it is even, the larger of the two middle values is returned.'''\n",
        "print(st.median_low(x))\n",
        "'''def median_low(data)\n",
        "Return the low median of numeric data.\n",
        "When the number of data points is odd, the middle value is returned.\n",
        "When it is even, the smaller of the two middle values is returned.'''\n",
        "\n",
        "#print(st.harmonic_mean(x)) ==== n/(E(1/x)) where 'E' is sigma sign  || but hm is not working with negative value any one \n",
        "'''Return the harmonic mean of data.\n",
        "\n",
        "The harmonic mean, sometimes called the subcontrary mean, is the\n",
        "reciprocal of the arithmetic mean of the reciprocals of the data,\n",
        "and is often appropriate when averaging quantities which are rates\n",
        "or ratios, for example speeds. Example:\n",
        "\n",
        "Suppose an investor purchases an equal value of shares in each of\n",
        "three companies, with P/E (price/earning) ratios of 2.5, 3 and 10.\n",
        "What is the average P/E ratio for the investor's portfolio?\n",
        "\n",
        ">>> harmonic_mean([2.5, 3, 10])  # For an equal investment portfolio.\n",
        "3.6\n",
        "Using the arithmetic mean would give an average of about 5.167, which\n",
        "is too high.\n",
        "\n",
        "If data is empty, or any element is less than zero,\n",
        "harmonic_mean will raise StatisticsError\n",
        "'''\n",
        "\n",
        "print(st.pstdev(x))\n",
        "'''Return the square root of the population variance.\n",
        "See pvariance for arguments and other details.\n",
        ">>> pstdev([1.5, 2.5, 2.5, 2.75, 3.25, 4.75])\n",
        "0.986893273527251'''\n",
        "\n",
        "\n",
        "print(st.pvariance(x))\n",
        "'''Return the population variance of data.\n",
        "\n",
        "data should be an iterable of Real-valued numbers, with at least one\n",
        "value. The optional argument mu, if given, should be the mean of\n",
        "the data. If it is missing or None, the mean is automatically calculated.\n",
        "\n",
        "Use this function to calculate the variance from the entire population.\n",
        "To estimate the variance from a sample, the variance function is\n",
        "usually a better choice.\n",
        "\n",
        "Examples:\n",
        ">>> data = [0.0, 0.25, 0.25, 1.25, 1.5, 1.75, 2.75, 3.25]\n",
        ">>> pvariance(data)\n",
        "1.25\n",
        "If you have already calculated the mean of the data, you can pass it as\n",
        "the optional second argument to avoid recalculating it:\n",
        ">>> mu = mean(data)\n",
        ">>> pvariance(data, mu)\n",
        "1.25\n",
        "This function does not check that mu is actually the mean of data.\n",
        "Giving arbitrary values for mu may lead to invalid or impossible\n",
        "results.\n",
        "Decimals and Fractions are supported:\n",
        ">>> from decimal import Decimal as D\n",
        ">>> pvariance([D(\"27.5\"), D(\"30.25\"), D(\"30.25\"), D(\"34.5\"), D(\"41.75\")])\n",
        "Decimal('24.815')\n",
        ">>> from fractions import Fraction as F\n",
        ">>> pvariance([F(1, 4), F(5, 4), F(1, 2)])\n",
        "Fraction(13, 72)\n",
        "'''"
      ],
      "execution_count": null,
      "outputs": [
        {
          "output_type": "stream",
          "name": "stdout",
          "text": [
            "33.5\n",
            "34\n",
            "17\n",
            "47.41769184597665\n",
            "2248.4375\n"
          ]
        },
        {
          "output_type": "execute_result",
          "data": {
            "application/vnd.google.colaboratory.intrinsic+json": {
              "type": "string"
            },
            "text/plain": [
              "'Return the population variance of data.\\n\\ndata should be an iterable of Real-valued numbers, with at least one\\nvalue. The optional argument mu, if given, should be the mean of\\nthe data. If it is missing or None, the mean is automatically calculated.\\n\\nUse this function to calculate the variance from the entire population.\\nTo estimate the variance from a sample, the variance function is\\nusually a better choice.\\n\\nExamples:\\n>>> data = [0.0, 0.25, 0.25, 1.25, 1.5, 1.75, 2.75, 3.25]\\n>>> pvariance(data)\\n1.25\\nIf you have already calculated the mean of the data, you can pass it as\\nthe optional second argument to avoid recalculating it:\\n>>> mu = mean(data)\\n>>> pvariance(data, mu)\\n1.25\\nThis function does not check that mu is actually the mean of data.\\nGiving arbitrary values for mu may lead to invalid or impossible\\nresults.\\nDecimals and Fractions are supported:\\n>>> from decimal import Decimal as D\\n>>> pvariance([D(\"27.5\"), D(\"30.25\"), D(\"30.25\"), D(\"34.5\"), D(\"41.75\")])\\nDecimal(\\'24.815\\')\\n>>> from fractions import Fraction as F\\n>>> pvariance([F(1, 4), F(5, 4), F(1, 2)])\\nFraction(13, 72)\\n'"
            ]
          },
          "metadata": {},
          "execution_count": 7
        }
      ]
    },
    {
      "cell_type": "code",
      "metadata": {
        "colab": {
          "base_uri": "https://localhost:8080/",
          "height": 154
        },
        "id": "4kkeOKfPcrHx",
        "outputId": "a3d7b39c-4636-430a-fd96-ba01c9be401c"
      },
      "source": [
        "print(st.stdev(x))\n",
        "'''Return the square root of the sample variance\n",
        "See variance for arguments and other details.\n",
        "\n",
        ">>> stdev([1.5, 2.5, 2.5, 2.75, 3.25, 4.75])\n",
        "1.0810874155219827'''\n",
        "\n",
        "print(st.variance(x))\n",
        "'''\n",
        "Return the sample variance of data.\n",
        "\n",
        "data should be an iterable of Real-valued numbers, with at least two\n",
        "values. The optional argument xbar, if given, should be the mean of\n",
        "the data. If it is missing or None, the mean is automatically calculated.\n",
        "\n",
        "Use this function when your data is a sample from a population. To\n",
        "calculate the variance from the entire population, see pvariance.\n",
        "\n",
        "Examples:\n",
        "\n",
        ">>> data = [2.75, 1.75, 1.25, 0.25, 0.5, 1.25, 3.5]\n",
        ">>> variance(data)\n",
        "1.3720238095238095\n",
        "If you have already calculated the mean of your data, you can pass it as\n",
        "the optional second argument xbar to avoid recalculating it:\n",
        "\n",
        ">>> m = mean(data)\n",
        ">>> variance(data, m)\n",
        "1.3720238095238095\n",
        "This function does not check that xbar is actually the mean of\n",
        "data. Giving arbitrary values for xbar may lead to invalid or\n",
        "impossible results.\n",
        "\n",
        "Decimals and Fractions are supported:\n",
        "\n",
        ">>> from decimal import Decimal as D\n",
        ">>> variance([D(\"27.5\"), D(\"30.25\"), D(\"30.25\"), D(\"34.5\"), D(\"41.75\")])\n",
        "Decimal('31.01875')\n",
        ">>> from fractions import Fraction as F\n",
        ">>> variance([F(1, 6), F(1, 2), F(5, 3)])\n",
        "Fraction(67, 108)\n",
        "'''"
      ],
      "execution_count": null,
      "outputs": [
        {
          "output_type": "stream",
          "name": "stdout",
          "text": [
            "50.69164484550543\n",
            "2569.6428571428573\n"
          ]
        },
        {
          "output_type": "execute_result",
          "data": {
            "application/vnd.google.colaboratory.intrinsic+json": {
              "type": "string"
            },
            "text/plain": [
              "'\\nReturn the sample variance of data.\\n\\ndata should be an iterable of Real-valued numbers, with at least two\\nvalues. The optional argument xbar, if given, should be the mean of\\nthe data. If it is missing or None, the mean is automatically calculated.\\n\\nUse this function when your data is a sample from a population. To\\ncalculate the variance from the entire population, see pvariance.\\n\\nExamples:\\n\\n>>> data = [2.75, 1.75, 1.25, 0.25, 0.5, 1.25, 3.5]\\n>>> variance(data)\\n1.3720238095238095\\nIf you have already calculated the mean of your data, you can pass it as\\nthe optional second argument xbar to avoid recalculating it:\\n\\n>>> m = mean(data)\\n>>> variance(data, m)\\n1.3720238095238095\\nThis function does not check that xbar is actually the mean of\\ndata. Giving arbitrary values for xbar may lead to invalid or\\nimpossible results.\\n\\nDecimals and Fractions are supported:\\n\\n>>> from decimal import Decimal as D\\n>>> variance([D(\"27.5\"), D(\"30.25\"), D(\"30.25\"), D(\"34.5\"), D(\"41.75\")])\\nDecimal(\\'31.01875\\')\\n>>> from fractions import Fraction as F\\n>>> variance([F(1, 6), F(1, 2), F(5, 3)])\\nFraction(67, 108)\\n'"
            ]
          },
          "metadata": {},
          "execution_count": 14
        }
      ]
    },
    {
      "cell_type": "code",
      "metadata": {
        "id": "NAHXB6d98qW4"
      },
      "source": [],
      "execution_count": null,
      "outputs": []
    },
    {
      "cell_type": "code",
      "metadata": {
        "id": "f_j6k2FC-h71"
      },
      "source": [],
      "execution_count": null,
      "outputs": []
    }
  ]
}